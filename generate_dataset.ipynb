{
 "cells": [
  {
   "cell_type": "code",
   "execution_count": 2,
   "id": "13abf983-81de-45c4-86cc-ecd07a2f6cc2",
   "metadata": {},
   "outputs": [],
   "source": [
    "import matplotlib.pyplot as plt\n",
    "from sklearn.model_selection import train_test_split\n",
    "import numpy as np\n",
    "import os\n",
    "import pandas as pd"
   ]
  },
  {
   "cell_type": "code",
   "execution_count": 2,
   "id": "29d17461-52fe-4f63-aad7-38df160108c2",
   "metadata": {},
   "outputs": [
    {
     "name": "stdout",
     "output_type": "stream",
     "text": [
      "\u001B[34mfull\u001B[m\u001B[m\n",
      "\n"
     ]
    }
   ],
   "source": [
    "from subprocess import check_output\n",
    "print(check_output([\"ls\", \"../sign_data\"]).decode(\"utf8\"))"
   ]
  },
  {
   "cell_type": "code",
   "execution_count": 3,
   "id": "203a1189-df6a-47e2-aaaf-6648d56f5dda",
   "metadata": {},
   "outputs": [],
   "source": [
    "def show_image(image,text=None, should_save=False):\n",
    "    np_image = image.numpy()\n",
    "    plt.axis(\"off\")\n",
    "    if text:\n",
    "        plt.text(75, 8, text, style='italic',fontweight='bold',\n",
    "            bbox={'facecolor':'white', 'alpha':0.8, 'pad':10})\n",
    "    plt.imshow(np.transpose(np_image, (1, 2, 0)))\n",
    "    plt.show()    "
   ]
  },
  {
   "cell_type": "code",
   "execution_count": 4,
   "id": "d7c49abc-ff43-4ef0-95b2-6d1b3f646b61",
   "metadata": {},
   "outputs": [],
   "source": [
    "####### THIS IS FOR CREATING THE DATASET, DONT RUN IT BECAUSE I HAVE CREATED IT ALREADY AND YOU WILL MESS IT UP\n",
    "\n",
    "# Define the base path for signature images\n",
    "file_path = '../sign_data/full'\n",
    "\n",
    "# Initialize an empty list to store the data\n",
    "data_list = []\n",
    "\n",
    "# List and sort the folders, then select the first 128 folders\n",
    "folders = sorted(os.listdir(file_path))[:128]\n",
    "\n",
    "for i in range(0, len(folders), 2):  # Process every second folder\n",
    "    genuine_folder = folders[i]\n",
    "    genuine_path = os.path.join(file_path, genuine_folder)\n",
    "    forgery_path = os.path.join(file_path, genuine_folder + '_forg')\n",
    "    \n",
    "    # Generate all pairs of genuine signatures\n",
    "    genuine_files = os.listdir(genuine_path)\n",
    "    for y in genuine_files:\n",
    "        for z in genuine_files:\n",
    "            if y != z:\n",
    "                data_list.append([os.path.join(genuine_folder, y), os.path.join(genuine_folder, z), 1])\n",
    "                \n",
    "    # Generate pairs of genuine and forged signatures\n",
    "    if os.path.exists(forgery_path):  # Check if the forgery folder exists\n",
    "        forged_files = os.listdir(forgery_path)\n",
    "        for y in genuine_files:\n",
    "            for z in forged_files:\n",
    "                data_list.append([os.path.join(genuine_folder, y), os.path.join(genuine_folder + '_forg', z), 0])\n",
    "\n",
    "# Create a DataFrame from the list\n",
    "data = pd.DataFrame(data_list, columns=['image1', 'image2', 'label'])\n",
    "\n",
    "# Save the DataFrame to a CSV file\n",
    "#data.to_csv('saved_data.csv', index=False)\n"
   ]
  },
  {
   "cell_type": "code",
   "execution_count": 5,
   "id": "1b1ff7c9-e088-4fe8-8884-fc1298971e36",
   "metadata": {},
   "outputs": [],
   "source": [
    "data = pd.read_csv('saved_data.csv').sample(frac=1) \n",
    "\n",
    "# Split the dataset into training and testing sets\n",
    "X_train, X_test, y_train, y_test = train_test_split(\n",
    "    data.iloc[:, :2],  # Selects the first two columns as features\n",
    "    data.iloc[:, 2],   # Selects the third column as the target variable\n",
    "    test_size=0.2,     # Allocates 10% of the data for the test set\n",
    "    stratify=data.iloc[:, 2]  # Ensures the training and testing sets have similar target variable distribution\n",
    ")"
   ]
  },
  {
   "cell_type": "code",
   "execution_count": 6,
   "id": "7e6e46ec-70be-4d30-92a6-214dbc9665b2",
   "metadata": {},
   "outputs": [],
   "source": [
    "pd.concat([X_train,y_train],axis=1).to_csv('train_data.csv',index=False)\n",
    "pd.concat([X_test,y_test],axis=1).to_csv('test_data.csv',index=False)"
   ]
  }
 ],
 "metadata": {
  "kernelspec": {
   "display_name": "Python 3 (ipykernel)",
   "language": "python",
   "name": "python3"
  },
  "language_info": {
   "codemirror_mode": {
    "name": "ipython",
    "version": 3
   },
   "file_extension": ".py",
   "mimetype": "text/x-python",
   "name": "python",
   "nbconvert_exporter": "python",
   "pygments_lexer": "ipython3",
   "version": "3.11.8"
  }
 },
 "nbformat": 4,
 "nbformat_minor": 5
}
